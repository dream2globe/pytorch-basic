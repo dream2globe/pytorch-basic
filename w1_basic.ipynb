{
 "cells": [
  {
   "attachments": {},
   "cell_type": "markdown",
   "metadata": {},
   "source": [
    "## Numpy와 닮은 파이토치"
   ]
  },
  {
   "cell_type": "code",
   "execution_count": 1,
   "metadata": {},
   "outputs": [],
   "source": [
    "import torch"
   ]
  },
  {
   "cell_type": "code",
   "execution_count": 2,
   "metadata": {},
   "outputs": [
    {
     "name": "stdout",
     "output_type": "stream",
     "text": [
      "tensor([1, 2, 3, 4])\n",
      "<class 'torch.Tensor'>\n",
      "torch.int64\n",
      "torch.Size([4])\n"
     ]
    }
   ],
   "source": [
    "a = torch.tensor([1, 2, 3, 4])\n",
    "print(a)\n",
    "print(type(a))  # 모두 정수형으로 구성됨\n",
    "print(a.dtype)\n",
    "print(a.shape)"
   ]
  },
  {
   "cell_type": "code",
   "execution_count": 3,
   "metadata": {},
   "outputs": [
    {
     "name": "stdout",
     "output_type": "stream",
     "text": [
      "tensor([1.0000, 2.0000, 3.1000, 4.0000])\n",
      "<class 'torch.Tensor'>\n",
      "torch.float32\n",
      "torch.Size([4])\n"
     ]
    }
   ],
   "source": [
    "b = torch.tensor([1, 2, 3.1, 4])\n",
    "print(b)\n",
    "print(type(b))  # 하나라도 실수면 모두 실수 타입\n",
    "print(b.dtype)\n",
    "print(b.shape)"
   ]
  },
  {
   "cell_type": "code",
   "execution_count": 4,
   "metadata": {},
   "outputs": [
    {
     "name": "stdout",
     "output_type": "stream",
     "text": [
      "tensor([[1, 2, 5],\n",
      "        [3, 4, 5]])\n",
      "<class 'torch.Tensor'>\n",
      "torch.int64\n",
      "2\n",
      "torch.Size([2, 3])\n",
      "torch.Size([2, 3])\n",
      "6\n"
     ]
    }
   ],
   "source": [
    "A = torch.tensor([[1, 2, 5], [3, 4, 5]])\n",
    "print(A)\n",
    "print(type(A))\n",
    "print(A.dtype)\n",
    "print(A.ndim)  # 차원 수\n",
    "print(A.shape)  # 행렬 형태\n",
    "print(A.size())  # shape\n",
    "print(A.numel())  # 전체 성분 수"
   ]
  },
  {
   "cell_type": "code",
   "execution_count": 5,
   "metadata": {},
   "outputs": [
    {
     "name": "stdout",
     "output_type": "stream",
     "text": [
      "tensor([0., 0., 0., 0., 0.])\n",
      "tensor([[0., 0., 0.],\n",
      "        [0., 0., 0.],\n",
      "        [0., 0., 0.]])\n",
      "tensor([[0, 0, 0],\n",
      "        [0, 0, 0]])\n",
      "tensor([1., 1., 1., 1., 1.])\n",
      "tensor([3, 5, 7, 9])\n",
      "tensor([0.0000, 0.1000, 0.2000, 0.3000, 0.4000, 0.5000, 0.6000, 0.7000, 0.8000,\n",
      "        0.9000])\n",
      "tensor([0.0000, 0.1000, 0.2000, 0.3000, 0.4000, 0.5000, 0.6000, 0.7000, 0.8000,\n",
      "        0.9000, 1.0000])\n"
     ]
    }
   ],
   "source": [
    "print(torch.zeros(5))\n",
    "print(torch.zeros(3, 3))\n",
    "print(torch.zeros_like(A))\n",
    "print(torch.ones(5))\n",
    "print(torch.arange(3, 10, 2))\n",
    "print(torch.arange(0, 1, 0.1))\n",
    "print(torch.linspace(0, 1, 11))  # 0에서 부터 1 포함 10개로 등분"
   ]
  },
  {
   "cell_type": "code",
   "execution_count": 6,
   "metadata": {},
   "outputs": [
    {
     "name": "stdout",
     "output_type": "stream",
     "text": [
      "tensor([[5, 7, 9],\n",
      "        [2, 3, 4]])\n",
      "tensor([[-3, -3, -3],\n",
      "        [ 0,  1,  2]])\n",
      "tensor([[ 4, 10, 18],\n",
      "        [ 1,  2,  3]])\n",
      "tensor([[0.2500, 0.4000, 0.5000],\n",
      "        [1.0000, 2.0000, 3.0000]])\n",
      "tensor([[1, 4, 9],\n",
      "        [1, 4, 9]])\n"
     ]
    }
   ],
   "source": [
    "A = torch.tensor([[1, 2, 3], [1, 2, 3]])\n",
    "B = torch.tensor([[4, 5, 6], [1, 1, 1]])\n",
    "print(A + B)\n",
    "print(A - B)\n",
    "print(A * B)  # Hadamard product\n",
    "print(A / B)\n",
    "print(A**2)"
   ]
  },
  {
   "cell_type": "code",
   "execution_count": 7,
   "metadata": {},
   "outputs": [
    {
     "name": "stdout",
     "output_type": "stream",
     "text": [
      "tensor([[4, 1],\n",
      "        [5, 1],\n",
      "        [6, 1]])\n",
      "tensor([[32,  6],\n",
      "        [32,  6]])\n"
     ]
    }
   ],
   "source": [
    "print(B.T)\n",
    "print(A @ B.T)  # 행렬 곱"
   ]
  },
  {
   "attachments": {},
   "cell_type": "markdown",
   "metadata": {},
   "source": [
    "### 다차원 행렬의 인덱싱"
   ]
  },
  {
   "cell_type": "code",
   "execution_count": 8,
   "metadata": {},
   "outputs": [
    {
     "name": "stdout",
     "output_type": "stream",
     "text": [
      "tensor([1, 2, 3])\n",
      "tensor([7, 8, 9])\n",
      "tensor([[4, 5, 6],\n",
      "        [7, 8, 9]])\n",
      "tensor(3)\n",
      "tensor(3)\n",
      "tensor([1, 3])\n",
      "tensor([3, 6, 9])\n",
      "tensor([7, 8, 9])\n"
     ]
    }
   ],
   "source": [
    "A = torch.tensor([[1, 2, 3], [4, 5, 6], [7, 8, 9]])\n",
    "print(A[0])\n",
    "print(A[-1])\n",
    "print(A[1:])\n",
    "print(A[0, 2])  # list는 안됨\n",
    "print(A[0][2])\n",
    "print(A[0, 0:3:2])\n",
    "print(A[:, 2])  # 2열만 가져올 수 있도록 함(list에는 없는 기능)\n",
    "print(A[:][2])  # not equal to print(A[:, 2])"
   ]
  },
  {
   "cell_type": "code",
   "execution_count": 9,
   "metadata": {},
   "outputs": [
    {
     "name": "stdout",
     "output_type": "stream",
     "text": [
      "tensor([[[1, 2, 3],\n",
      "         [4, 5, 6],\n",
      "         [7, 8, 9]],\n",
      "\n",
      "        [[1, 2, 3],\n",
      "         [4, 5, 6],\n",
      "         [7, 8, 9]]])\n",
      "torch.Size([2, 3, 3])\n",
      "tensor(6)\n"
     ]
    }
   ],
   "source": [
    "A = torch.tensor([[[1, 2, 3], [4, 5, 6], [7, 8, 9]], [[1, 2, 3], [4, 5, 6], [7, 8, 9]]])\n",
    "\n",
    "print(A)\n",
    "print(A.shape)\n",
    "print(A[0, 1, 2])"
   ]
  },
  {
   "attachments": {},
   "cell_type": "markdown",
   "metadata": {},
   "source": [
    "### Boolean indexing"
   ]
  },
  {
   "cell_type": "code",
   "execution_count": 10,
   "metadata": {},
   "outputs": [
    {
     "name": "stdout",
     "output_type": "stream",
     "text": [
      "tensor([[False, False,  True, False],\n",
      "        [False, False,  True, False]])\n",
      "tensor([3, 3])\n",
      "tensor([[  1,   2, 100,   4],\n",
      "        [  1,   2, 100,   4]])\n"
     ]
    }
   ],
   "source": [
    "A = torch.tensor([[1, 2, 3, 4], [1, 2, 3, 4]])\n",
    "print(A == 3)\n",
    "print(A[A == 3])\n",
    "A[A == 3] = 100\n",
    "print(A)"
   ]
  },
  {
   "cell_type": "code",
   "execution_count": 11,
   "metadata": {},
   "outputs": [
    {
     "name": "stdout",
     "output_type": "stream",
     "text": [
      "tensor([[1, 2],\n",
      "        [5, 6]])\n"
     ]
    }
   ],
   "source": [
    "A = torch.tensor([[1, 2], [3, 4], [5, 6], [7, 8]])\n",
    "B = torch.tensor([True, False, True, False])\n",
    "print(A[B, :])  # True행만 가져옴"
   ]
  },
  {
   "attachments": {},
   "cell_type": "markdown",
   "metadata": {},
   "source": [
    "### Tensor indexing"
   ]
  },
  {
   "cell_type": "code",
   "execution_count": 12,
   "metadata": {},
   "outputs": [
    {
     "name": "stdout",
     "output_type": "stream",
     "text": [
      "tensor(3)\n",
      "tensor(3)\n",
      "tensor([3, 4, 5])\n",
      "tensor([[3, 3, 3],\n",
      "        [4, 4, 4]])\n",
      "tensor([[[1, 2, 3],\n",
      "         [4, 5, 6]],\n",
      "\n",
      "        [[4, 5, 6],\n",
      "         [4, 5, 6]]])\n"
     ]
    }
   ],
   "source": [
    "a = torch.tensor([1, 2, 3, 4, 5])\n",
    "A = a[2]\n",
    "print(A)\n",
    "\n",
    "A = a[torch.tensor(2)]\n",
    "print(A)\n",
    "\n",
    "A = a[torch.tensor([2, 3, 4])]\n",
    "print(A)\n",
    "\n",
    "A = a[torch.tensor([[2, 2, 2], [3, 3, 3]])]\n",
    "print(A)  # 인덱싱된 값으로 새 행렬을 만듬\n",
    "\n",
    "a = torch.tensor([[1, 2, 3], [4, 5, 6]])\n",
    "A = a[\n",
    "    torch.tensor([[0, 1], [1, 1]])\n",
    "]  # 차원이 늘어나면서 표현됨, [0]은 [1, 2, 3]을 내포함, # segmetation 결과 그룹 보여줄 때 사용함\n",
    "print(A)"
   ]
  },
  {
   "cell_type": "code",
   "execution_count": 13,
   "metadata": {},
   "outputs": [
    {
     "name": "stdout",
     "output_type": "stream",
     "text": [
      "tensor([[1, 2],\n",
      "        [3, 4],\n",
      "        [5, 6],\n",
      "        [7, 8]])\n",
      "torch.Size([4, 2])\n",
      "tensor([2])\n",
      "tensor([2])\n",
      "tensor([2, 8])\n",
      "tensor([[3, 4],\n",
      "        [3, 4],\n",
      "        [3, 4],\n",
      "        [5, 6],\n",
      "        [5, 6]])\n"
     ]
    }
   ],
   "source": [
    "A = torch.tensor([[1, 2], [3, 4], [5, 6], [7, 8]])\n",
    "# 유형 1 : 위치\n",
    "print(A)\n",
    "print(A.shape)\n",
    "\n",
    "# 유형 2 : True인 위치를 반환\n",
    "print(A[torch.tensor([[False, True], [False, False], [False, False], [False, False]])])\n",
    "print(A[A == 2])\n",
    "\n",
    "# 유형 3 : True인 위치를 반환 ([0, 3]행, 2번째 열)\n",
    "print(A[[True, False, False, True], [False, True]])\n",
    "\n",
    "# 유형 4 : 쌓는 방법\n",
    "print(A[torch.tensor([1, 1, 1, 2, 2])])"
   ]
  },
  {
   "attachments": {},
   "cell_type": "markdown",
   "metadata": {},
   "source": [
    "## pytorch 함수"
   ]
  },
  {
   "cell_type": "code",
   "execution_count": 14,
   "metadata": {},
   "outputs": [
    {
     "name": "stdout",
     "output_type": "stream",
     "text": [
      "tensor([[ 0.4730, -0.6035,  0.5805],\n",
      "        [-0.9933,  0.0586,  0.7705],\n",
      "        [ 0.8630,  1.0854,  1.4971]])\n",
      "tensor([[0.0089, 0.8637, 0.1702],\n",
      "        [0.7900, 0.1210, 0.9447],\n",
      "        [0.8729, 0.9566, 0.8457]])\n",
      "tensor([[-0.9933,  0.0586,  0.7705]])\n"
     ]
    }
   ],
   "source": [
    "A = torch.randn(3, 3)  # 정규분포\n",
    "B = torch.rand(3, 3)  # uniform\n",
    "print(A)\n",
    "print(B)\n",
    "print(A[A[:, 0] < 0, :])  # 0 번째 열이 음수인 행 전부 가져오기"
   ]
  },
  {
   "cell_type": "code",
   "execution_count": 15,
   "metadata": {},
   "outputs": [
    {
     "name": "stdout",
     "output_type": "stream",
     "text": [
      "tensor([[ 0.4730, -0.6035,  0.5805],\n",
      "        [-0.9933,  0.0586,  0.7705],\n",
      "        [ 0.8630,  1.0854,  1.4971]])\n",
      "tensor([[0.4730, 0.6035, 0.5805],\n",
      "        [0.9933, 0.0586, 0.7705],\n",
      "        [0.8630, 1.0854, 1.4971]])\n",
      "tensor([[0.6877, 0.7768, 0.7619],\n",
      "        [0.9966, 0.2420, 0.8778],\n",
      "        [0.9290, 1.0418, 1.2236]])\n",
      "tensor([[1.6047, 1.8284, 1.7869],\n",
      "        [2.7000, 1.0603, 2.1608],\n",
      "        [2.3702, 2.9606, 4.4688]])\n",
      "tensor([[-0.7488, -0.5051, -0.5439],\n",
      "        [-0.0068, -2.8373, -0.2607],\n",
      "        [-0.1474,  0.0819,  0.4035]])\n",
      "tensor(1.)\n",
      "tensor([[-0.3252, -0.2194, -0.2362],\n",
      "        [-0.0029, -1.2322, -0.1132],\n",
      "        [-0.0640,  0.0356,  0.1753]])\n",
      "tensor([[-1.0802, -0.7287, -0.7847],\n",
      "        [-0.0098, -4.0933, -0.3762],\n",
      "        [-0.2126,  0.1182,  0.5822]])\n",
      "tensor([[ 0., -1.,  1.],\n",
      "        [-1.,  0.,  1.],\n",
      "        [ 1.,  1.,  1.]])\n",
      "tensor([[ 0.4700, -0.6000,  0.5800],\n",
      "        [-0.9900,  0.0600,  0.7700],\n",
      "        [ 0.8600,  1.0900,  1.5000]])\n",
      "tensor([[ 0., -1.,  0.],\n",
      "        [-1.,  0.,  0.],\n",
      "        [ 0.,  1.,  1.]])\n",
      "tensor([[1., -0., 1.],\n",
      "        [-0., 1., 1.],\n",
      "        [1., 2., 2.]])\n"
     ]
    }
   ],
   "source": [
    "print(A)\n",
    "print(torch.abs(A))\n",
    "print(torch.sqrt(torch.abs(A)))\n",
    "print(torch.exp(torch.abs(A)))\n",
    "print(torch.log(torch.abs(A)))\n",
    "print(torch.log(torch.exp(torch.tensor(1))))  # tensor 형만 인수로 사용할 수 있음 = e^1\n",
    "print(torch.log10(torch.abs(A)))\n",
    "print(torch.log2(torch.abs(A)))\n",
    "print(torch.round(A))\n",
    "print(torch.round(A, decimals=2))\n",
    "print(torch.floor(A))  # 내림\n",
    "print(torch.ceil(A))  # 올림"
   ]
  },
  {
   "cell_type": "code",
   "execution_count": 16,
   "metadata": {},
   "outputs": [
    {
     "name": "stdout",
     "output_type": "stream",
     "text": [
      "tensor(0.5000)\n",
      "tensor(0.8660)\n",
      "tensor(0.5774)\n",
      "tensor(0.4805)\n",
      "<class 'float'>\n",
      "<class 'torch.Tensor'>\n"
     ]
    }
   ],
   "source": [
    "print(torch.sin(torch.tensor(torch.pi / 6)))\n",
    "print(torch.cos(torch.tensor(torch.pi / 6)))\n",
    "print(torch.tan(torch.tensor(torch.pi / 6)))\n",
    "print(torch.tanh(torch.tensor(torch.pi / 6)))\n",
    "\n",
    "print(type(torch.pi))\n",
    "print(type(torch.pi * torch.tensor(3)))  # tensor로 자동 바뀜"
   ]
  },
  {
   "cell_type": "code",
   "execution_count": 17,
   "metadata": {},
   "outputs": [
    {
     "name": "stdout",
     "output_type": "stream",
     "text": [
      "tensor(nan)\n",
      "tensor([False, False,  True, False, False])\n",
      "tensor([False, False,  True, False, False])\n"
     ]
    }
   ],
   "source": [
    "print(torch.log(torch.tensor(-1)))  # 실수가 아님\n",
    "print(torch.isnan(torch.tensor([1, 2, torch.nan, 3, 4])))  # not a number\n",
    "print(torch.isinf(torch.tensor([1, 2, torch.inf, 3, 4])))"
   ]
  },
  {
   "cell_type": "code",
   "execution_count": 18,
   "metadata": {},
   "outputs": [
    {
     "name": "stdout",
     "output_type": "stream",
     "text": [
      "tensor([[ 0.4885, -0.2673, -1.7764, -1.0192],\n",
      "        [-0.3780,  0.8515, -0.3869,  0.2123],\n",
      "        [-1.0265, -1.0657, -0.0038, -1.2318]])\n",
      "tensor(0.8515)\n",
      "torch.return_types.max(\n",
      "values=tensor([ 0.4885,  0.8515, -0.0038,  0.2123]),\n",
      "indices=tensor([0, 1, 2, 1]))\n",
      "torch.return_types.max(\n",
      "values=tensor([ 0.4885,  0.8515, -0.0038]),\n",
      "indices=tensor([0, 1, 2]))\n",
      "torch.return_types.max(\n",
      "values=tensor([[ 0.4885],\n",
      "        [ 0.8515],\n",
      "        [-0.0038]]),\n",
      "indices=tensor([[0],\n",
      "        [1],\n",
      "        [2]]))\n",
      "tensor(-1.7764)\n",
      "torch.return_types.min(\n",
      "values=tensor([-1.0265, -1.0657, -1.7764, -1.2318]),\n",
      "indices=tensor([2, 2, 0, 2]))\n",
      "torch.return_types.min(\n",
      "values=tensor([-1.7764, -0.3869, -1.2318]),\n",
      "indices=tensor([2, 2, 3]))\n",
      "tensor(5)\n",
      "tensor([0, 1, 2, 1])\n",
      "tensor([0, 1, 2])\n"
     ]
    }
   ],
   "source": [
    "A = torch.randn(3, 4)\n",
    "print(A)\n",
    "print(torch.max(A))\n",
    "print(torch.max(A, dim=0))\n",
    "print(torch.max(A, dim=1))\n",
    "print(torch.max(A, dim=1, keepdims=True))  # 행렬의 차원을 유지함\n",
    "print(torch.min(A))\n",
    "print(torch.min(A, dim=0))\n",
    "print(torch.min(A, dim=1))\n",
    "print(torch.argmax(A))\n",
    "print(torch.argmax(A, dim=0))  # 남는 디멘전으로 생각하면 편할 듯(4개)\n",
    "print(torch.argmax(A, dim=1))"
   ]
  },
  {
   "cell_type": "code",
   "execution_count": 19,
   "metadata": {},
   "outputs": [
    {
     "name": "stdout",
     "output_type": "stream",
     "text": [
      "tensor([[ 1.1181],\n",
      "        [ 0.2396],\n",
      "        [ 0.2433],\n",
      "        [-0.3141],\n",
      "        [ 0.0141],\n",
      "        [-2.2320]])\n",
      "torch.return_types.sort(\n",
      "values=tensor([[-2.2320],\n",
      "        [-0.3141],\n",
      "        [ 0.0141],\n",
      "        [ 0.2396],\n",
      "        [ 0.2433],\n",
      "        [ 1.1181]]),\n",
      "indices=tensor([[5],\n",
      "        [3],\n",
      "        [4],\n",
      "        [1],\n",
      "        [2],\n",
      "        [0]]))\n",
      "torch.return_types.sort(\n",
      "values=tensor([[ 1.1181],\n",
      "        [ 0.2433],\n",
      "        [ 0.2396],\n",
      "        [ 0.0141],\n",
      "        [-0.3141],\n",
      "        [-2.2320]]),\n",
      "indices=tensor([[0],\n",
      "        [2],\n",
      "        [1],\n",
      "        [4],\n",
      "        [3],\n",
      "        [5]]))\n"
     ]
    }
   ],
   "source": [
    "a = torch.randn(6, 1)\n",
    "print(a)\n",
    "a_sorted = torch.sort(a, dim=0)\n",
    "print(a_sorted)\n",
    "a_sorted = torch.sort(a, dim=0, descending=True)\n",
    "print(a_sorted)"
   ]
  },
  {
   "cell_type": "code",
   "execution_count": 20,
   "metadata": {},
   "outputs": [
    {
     "name": "stdout",
     "output_type": "stream",
     "text": [
      "tensor([[ 0.7012, -0.9653, -1.5544, -0.5260],\n",
      "        [ 1.0871, -1.4808, -1.9465, -0.5473],\n",
      "        [ 0.3484,  0.0154, -0.1280, -0.6021]])\n",
      "tensor(-5.5983)\n",
      "tensor([-2.3445, -2.8876, -0.3663])\n",
      "tensor([[-2.3445],\n",
      "        [-2.8876],\n",
      "        [-0.3663]])\n",
      "tensor(-0.4665)\n",
      "tensor([-0.5861, -0.7219, -0.0916])\n",
      "tensor([[-0.5861],\n",
      "        [-0.7219],\n",
      "        [-0.0916]])\n",
      "tensor(0.9278)\n"
     ]
    }
   ],
   "source": [
    "A = torch.randn(3, 4)\n",
    "print(A)\n",
    "print(torch.sum(A))\n",
    "print(torch.sum(A, dim=1))\n",
    "print(torch.sum(A, dim=1, keepdims=True))\n",
    "print(torch.mean(A))\n",
    "print(torch.mean(A, dim=1))\n",
    "print(torch.mean(A, dim=1, keepdims=True))\n",
    "print(torch.std(A))"
   ]
  },
  {
   "cell_type": "code",
   "execution_count": 21,
   "metadata": {},
   "outputs": [
    {
     "name": "stdout",
     "output_type": "stream",
     "text": [
      "tensor([2, 3, 2, 4, 1, 4, 1, 1, 1, 4, 3, 2])\n",
      "torch.Size([12])\n",
      "tensor([[[2, 3, 2],\n",
      "         [4, 1, 4]],\n",
      "\n",
      "        [[1, 1, 1],\n",
      "         [4, 3, 2]]])\n",
      "3\n"
     ]
    }
   ],
   "source": [
    "A = torch.randint(1, 5, size=(12,))\n",
    "print(A)\n",
    "print(A.shape)\n",
    "\n",
    "B = A.reshape(2, 2, 3)\n",
    "print(B)\n",
    "print(B.ndim)"
   ]
  },
  {
   "cell_type": "code",
   "execution_count": 22,
   "metadata": {},
   "outputs": [
    {
     "name": "stdout",
     "output_type": "stream",
     "text": [
      "tensor(9)\n",
      "tensor([[9]])\n",
      "tensor([[9]])\n",
      "tensor([[9]])\n",
      "tensor([[9]])\n",
      "torch.Size([4, 6, 3])\n",
      "torch.Size([6, 3, 4])\n"
     ]
    }
   ],
   "source": [
    "a = torch.tensor([1, 2, 3])  # 1*2 + 2*2 + 3*1\n",
    "b = torch.tensor([2, 2, 1])\n",
    "print(torch.sum(a * b))\n",
    "\n",
    "a = a.reshape(3, 1)\n",
    "b = b.reshape(3, 1)\n",
    "print(a.transpose(1, 0) @ b)\n",
    "print(a.permute(1, 0) @ b)\n",
    "print(a.T @ b)\n",
    "print(a.t() @ b)\n",
    "\n",
    "A = torch.randn(4, 3, 6)\n",
    "print(A.permute(0, 2, 1).shape)  # 파라미터는 차원을 바꾸고 싶은 순서\n",
    "print(A.transpose(0, 2).shape)  # permute와 달리 둘만 가능\n",
    "\n",
    "A = torch.rand"
   ]
  },
  {
   "cell_type": "code",
   "execution_count": 23,
   "metadata": {},
   "outputs": [
    {
     "name": "stdout",
     "output_type": "stream",
     "text": [
      "tensor([ 0,  1,  2,  3,  4,  5,  6,  7,  8,  9, 10, 11, 12, 13, 14, 15, 16, 17,\n",
      "        18, 19])\n",
      "tensor([[ 0,  1,  2,  3,  4],\n",
      "        [ 5,  6,  7,  8,  9],\n",
      "        [10, 11, 12, 13, 14],\n",
      "        [15, 16, 17, 18, 19]])\n",
      "tensor([[ 0,  1,  2,  3,  4],\n",
      "        [ 5,  6,  7,  8,  9],\n",
      "        [10, 11, 12, 13, 14],\n",
      "        [15, 16, 17, 18, 19]])\n",
      "torch.Size([2, 5, 2])\n",
      "torch.Size([2, 2, 5])\n",
      "torch.Size([1, 20])\n",
      "torch.Size([20, 1])\n"
     ]
    }
   ],
   "source": [
    "A = torch.arange(20)\n",
    "print(A)\n",
    "print(A.reshape(4, 5))\n",
    "print(A.reshape(4, -1))\n",
    "print(A.reshape(2, 5, -1).shape)\n",
    "print(A.reshape(2, -1, 5).shape)\n",
    "print(A.reshape(1, -1).shape)\n",
    "print(A.reshape(-1, 1).shape)"
   ]
  },
  {
   "cell_type": "code",
   "execution_count": 24,
   "metadata": {},
   "outputs": [
    {
     "name": "stdout",
     "output_type": "stream",
     "text": [
      "torch.Size([4, 5, 6])\n",
      "torch.Size([4, 5, 6])\n",
      "torch.Size([2, 3, 4, 5])\n",
      "torch.Size([2, 3, 4, 5])\n",
      "torch.Size([3, 4, 6])\n",
      "torch.Size([3, 4, 6])\n"
     ]
    }
   ],
   "source": [
    "x = torch.randn(2, 3, 4, 5, 6)\n",
    "print(x[1, 2, :, :, :].shape)\n",
    "print(x[1, 2, ...].shape)\n",
    "\n",
    "print(x[:, :, :, :, 3].shape)\n",
    "print(x[..., 3].shape)\n",
    "\n",
    "print(x[1, :, :, 3, :].shape)\n",
    "print(x[1, ..., 3, :].shape)"
   ]
  },
  {
   "cell_type": "code",
   "execution_count": 25,
   "metadata": {},
   "outputs": [
    {
     "name": "stdout",
     "output_type": "stream",
     "text": [
      "tensor([[1., 1., 1., 1.],\n",
      "        [1., 1., 1., 1.],\n",
      "        [1., 1., 1., 1.],\n",
      "        [0., 0., 0., 0.],\n",
      "        [0., 0., 0., 0.],\n",
      "        [0., 0., 0., 0.]])\n",
      "tensor([[1., 1., 1., 1., 0., 0., 0., 0.],\n",
      "        [1., 1., 1., 1., 0., 0., 0., 0.],\n",
      "        [1., 1., 1., 1., 0., 0., 0., 0.]])\n",
      "tensor([[1., 1., 1., 1.],\n",
      "        [1., 1., 1., 1.],\n",
      "        [1., 1., 1., 1.],\n",
      "        [0., 0., 0., 0.],\n",
      "        [0., 0., 0., 0.],\n",
      "        [0., 0., 0., 0.]])\n",
      "tensor([[1., 1., 1., 1., 0., 0., 0., 0.],\n",
      "        [1., 1., 1., 1., 0., 0., 0., 0.],\n",
      "        [1., 1., 1., 1., 0., 0., 0., 0.]])\n",
      "tensor([[[1., 1., 1., 1.],\n",
      "         [1., 1., 1., 1.],\n",
      "         [1., 1., 1., 1.]],\n",
      "\n",
      "        [[1., 1., 1., 1.],\n",
      "         [1., 1., 1., 1.],\n",
      "         [1., 1., 1., 1.]],\n",
      "\n",
      "        [[0., 0., 0., 0.],\n",
      "         [0., 0., 0., 0.],\n",
      "         [0., 0., 0., 0.]],\n",
      "\n",
      "        [[0., 0., 0., 0.],\n",
      "         [0., 0., 0., 0.],\n",
      "         [0., 0., 0., 0.]]])\n",
      "tensor([[[1., 1., 1., 1.],\n",
      "         [1., 1., 1., 1.],\n",
      "         [1., 1., 1., 1.],\n",
      "         [0., 0., 0., 0.],\n",
      "         [0., 0., 0., 0.],\n",
      "         [0., 0., 0., 0.]],\n",
      "\n",
      "        [[1., 1., 1., 1.],\n",
      "         [1., 1., 1., 1.],\n",
      "         [1., 1., 1., 1.],\n",
      "         [0., 0., 0., 0.],\n",
      "         [0., 0., 0., 0.],\n",
      "         [0., 0., 0., 0.]]])\n",
      "tensor([[[1., 1., 1., 1., 0., 0., 0., 0.],\n",
      "         [1., 1., 1., 1., 0., 0., 0., 0.],\n",
      "         [1., 1., 1., 1., 0., 0., 0., 0.]],\n",
      "\n",
      "        [[1., 1., 1., 1., 0., 0., 0., 0.],\n",
      "         [1., 1., 1., 1., 0., 0., 0., 0.],\n",
      "         [1., 1., 1., 1., 0., 0., 0., 0.]]])\n"
     ]
    }
   ],
   "source": [
    "A = torch.ones((3, 4))\n",
    "B = torch.zeros((3, 4))\n",
    "\n",
    "print(torch.vstack([A, B]))\n",
    "print(torch.hstack([A, B]))\n",
    "\n",
    "print(torch.cat([A, B], dim=0))\n",
    "print(torch.cat([A, B], dim=1))\n",
    "\n",
    "A = torch.ones((2, 3, 4))\n",
    "B = torch.zeros((2, 3, 4))\n",
    "\n",
    "# 다차원을 고려해서 cat을 추천함\n",
    "print(torch.cat([A, B], dim=0))\n",
    "print(torch.cat([A, B], dim=1))\n",
    "print(torch.cat([A, B], dim=2))"
   ]
  },
  {
   "cell_type": "code",
   "execution_count": 26,
   "metadata": {},
   "outputs": [
    {
     "name": "stdout",
     "output_type": "stream",
     "text": [
      "torch.Size([1, 1, 1, 3, 1, 1, 4, 1])\n"
     ]
    },
    {
     "data": {
      "text/plain": [
       "torch.Size([3, 4])"
      ]
     },
     "execution_count": 26,
     "metadata": {},
     "output_type": "execute_result"
    }
   ],
   "source": [
    "A = torch.randn(1, 1, 1, 3, 1, 1, 4, 1)\n",
    "print(A.shape)\n",
    "A.squeeze().shape"
   ]
  },
  {
   "cell_type": "code",
   "execution_count": 27,
   "metadata": {},
   "outputs": [
    {
     "name": "stdout",
     "output_type": "stream",
     "text": [
      "torch.Size([1, 3, 4])\n",
      "torch.Size([3, 1, 4])\n",
      "torch.Size([3, 4, 1])\n",
      "torch.Size([1, 3, 4])\n",
      "torch.Size([3, 1, 4])\n",
      "torch.Size([3, 4, 1])\n"
     ]
    }
   ],
   "source": [
    "A = torch.randn(3, 4)\n",
    "\n",
    "print(A.unsqueeze(dim=0).shape)  # 아래와 동일함\n",
    "print(A.unsqueeze(dim=1).shape)\n",
    "print(A.unsqueeze(dim=2).shape)\n",
    "\n",
    "print(A.reshape(1, 3, 4).shape)\n",
    "print(A.reshape(3, 1, 4).shape)\n",
    "print(A.reshape(3, 4, 1).shape)"
   ]
  },
  {
   "cell_type": "code",
   "execution_count": 28,
   "metadata": {},
   "outputs": [
    {
     "name": "stdout",
     "output_type": "stream",
     "text": [
      "tensor([[[1., 1., 1., 1.],\n",
      "         [1., 1., 1., 1.],\n",
      "         [1., 1., 1., 1.]],\n",
      "\n",
      "        [[0., 0., 0., 0.],\n",
      "         [0., 0., 0., 0.],\n",
      "         [0., 0., 0., 0.]]])\n",
      "torch.Size([2, 3, 4])\n"
     ]
    }
   ],
   "source": [
    "A = torch.ones(3, 4)\n",
    "B = torch.zeros(3, 4)\n",
    "\n",
    "A = A.unsqueeze(dim=0)\n",
    "B = B.unsqueeze(dim=0)\n",
    "\n",
    "C = torch.cat([A, B], dim=0)  # 차원을 늘려서 쌓고 싶을 때\n",
    "\n",
    "print(C)\n",
    "print(C.shape)  # 1시간 55분까지 완료"
   ]
  },
  {
   "cell_type": "code",
   "execution_count": null,
   "metadata": {},
   "outputs": [],
   "source": []
  }
 ],
 "metadata": {
  "kernelspec": {
   "display_name": "pytorch",
   "language": "python",
   "name": "python3"
  },
  "language_info": {
   "codemirror_mode": {
    "name": "ipython",
    "version": 3
   },
   "file_extension": ".py",
   "mimetype": "text/x-python",
   "name": "python",
   "nbconvert_exporter": "python",
   "pygments_lexer": "ipython3",
   "version": "3.11.9"
  },
  "orig_nbformat": 4
 },
 "nbformat": 4,
 "nbformat_minor": 2
}
